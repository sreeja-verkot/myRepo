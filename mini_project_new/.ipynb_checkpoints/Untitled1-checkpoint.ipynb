{
 "cells": [
  {
   "cell_type": "code",
   "execution_count": null,
   "metadata": {},
   "outputs": [],
   "source": [
    "#import the libraries\n",
    "\n",
    "import re \n",
    "from collections import Counter\n",
    "from sklearn.model_selection import train_test_split \n",
    "from sklearn.model_selection import cross_val_score \n",
    "from sklearn.svm import LinearSVC\n",
    "from sklearn import metrics\n",
    "from sklearn.feature_extraction import DictVectorizer\n",
    "#from sklearn.tree import DecisionTreeClassifier\n",
    "#from sklearn.neighbors import KNeighborsClassifier \n",
    "#from sklearn.naive_bayes import MultinomialNB\n",
    "#from sklearn.ensemble import RandomForestClassifier\n",
    "import pandas as pd\n",
    "#method to read the training file and to seperate it into text and labels\n"
   ]
  },
  {
   "cell_type": "code",
   "execution_count": null,
   "metadata": {},
   "outputs": [],
   "source": [
    "def read_file(file_name): \n",
    "    data = []\n",
    "    with open(file_name, 'r') as f: \n",
    "        for line in f: \n",
    "            #print(line)\n",
    "            line = line.strip() \n",
    "            #print(line)\n",
    "            label = ' '.join(line[1:line.find(\"]\")].strip().split())\n",
    "            text = line[line.find(\"]\")+1:].strip()\n",
    "            #print(label,text)\n",
    "            data.append([label, text])\n",
    "    return data \n",
    "\n",
    "#method to create features for the text messages\n",
    "def create_feature(text, nrange=(1, 4)):\n",
    "    text_features = [] \n",
    "    text = text.lower() \n",
    "\n",
    "    text_alphanum = re.sub('[^a-z0-9]', ' ', text)\n",
    "    #print(text_alphanum)\n",
    "    for n in range(nrange[0], nrange[1]+1): \n",
    "        text_features += ngram(text_alphanum.split(), n)\n",
    "    #print(text_features)\n",
    "    return Counter(text_features)\n",
    "\n",
    "#method to create ngrams(max 4 grams) because there can be words like 'not happy' \n",
    "def ngram(token, n): \n",
    "    #print(\"tokens:\",token)\n",
    "    #print(\"n:\",n)\n",
    "    output = []\n",
    "    for i in range(n-1, len(token)): \n",
    "        ngram = ' '.join(token[i-n+1:i+1])\n",
    "        output.append(ngram) \n",
    "    #print(output)\n",
    "    return output\n",
    "\n",
    "\n"
   ]
  },
  {
   "cell_type": "code",
   "execution_count": null,
   "metadata": {},
   "outputs": [],
   "source": [
    "#read the training data\n",
    "file_name = \"Train.csv\"\n",
    "df = pd.read_csv('Train.csv')\n",
    "X=df['TEXT']\n",
    "Y=df['Label']\n",
    "X_all=[]\n",
    "y_all=Y\n",
    "for text in X:\n",
    "    X_all.append(create_feature(text))\n",
    "print(X_all[0],y_all[0])\n",
    "#emotion_encoder = LabelEncoder()\n",
    "#y = emotion_encoder.fit_transform(y)\n",
    "#print(list(emotion_encoder.classes_))\n"
   ]
  },
  {
   "cell_type": "code",
   "execution_count": null,
   "metadata": {},
   "outputs": [],
   "source": [
    "X_train, X_test, y_train, y_test = train_test_split(X_all, y_all, test_size=0.2, random_state=0) \n",
    "#print(X_train,y_train)\n",
    "\n",
    "vectorizer = DictVectorizer(sparse = True)\n",
    "X_train = vectorizer.fit_transform(X_train)\n",
    "X_test = vectorizer.transform(X_test)\n",
    "\n",
    "#svm\n",
    "svc=LinearSVC()\n",
    "svc.fit(X_train,y_train)\n",
    "y_pred=svc.predict(X_test)\n",
    "print('\\nAccuracy Score for svm:\\n')\n",
    "print(metrics.accuracy_score(y_test,y_pred))\n",
    "#decision tree\n",
    "tree=DecisionTreeClassifier(criterion = 'entropy') \n",
    "tree.fit(X_train,y_train)\n",
    "y_pred=tree.predict(X_test)\n",
    "print('\\nAccuracy Score for decision tree:\\n')\n",
    "print(metrics.accuracy_score(y_test,y_pred))\n",
    "\n",
    "\n",
    "\n",
    "go_on=True\n",
    "while(go_on==True):\n",
    "    input_msg=input(\"\\nenter a message\\n\")\n",
    "    input_feature=create_feature(input_msg)\n",
    "    print(svc.predict(vectorizer.transform([input_feature])))\n",
    "    exit=input(\"\\nDo you want to continue?y/n\\n\")\n",
    "    if exit == \"y\":\n",
    "        go_on=True\n",
    "    else:\n",
    "        go_on=False\n"
   ]
  },
  {
   "cell_type": "code",
   "execution_count": null,
   "metadata": {},
   "outputs": [],
   "source": []
  },
  {
   "cell_type": "code",
   "execution_count": null,
   "metadata": {},
   "outputs": [],
   "source": []
  },
  {
   "cell_type": "code",
   "execution_count": null,
   "metadata": {},
   "outputs": [],
   "source": []
  }
 ],
 "metadata": {
  "kernelspec": {
   "display_name": "Python 3",
   "language": "python",
   "name": "python3"
  },
  "language_info": {
   "codemirror_mode": {
    "name": "ipython",
    "version": 3
   },
   "file_extension": ".py",
   "mimetype": "text/x-python",
   "name": "python",
   "nbconvert_exporter": "python",
   "pygments_lexer": "ipython3",
   "version": "3.6.5"
  }
 },
 "nbformat": 4,
 "nbformat_minor": 2
}
